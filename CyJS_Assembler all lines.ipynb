{
 "cells": [
  {
   "cell_type": "markdown",
   "metadata": {},
   "source": [
    "# CyJS Assembler\n",
    "\n",
    "* Assemble a network from text using existing INDRA functionality\n",
    "* Translate this into a model supported by cytoscape.js\n",
    "* Visualize standalone, or within notebook\n",
    "---"
   ]
  },
  {
   "cell_type": "markdown",
   "metadata": {},
   "source": [
    "### I. Describe your network in plain English\n",
    "\n",
    "* We have described the interactions in the McCormick RAS pathway map using plain English.\n",
    "* Let's load this set of sentences."
   ]
  },
  {
   "cell_type": "markdown",
   "metadata": {
    "collapsed": false
   },
   "source": [
    "from __future__ import absolute_import, print_function, unicode_literals\n",
    "from builtins import dict, str\n",
    "statement_path = 'ras_pathway.txt'\n",
    "txt = open(statement_path, 'rt').read()\n",
    "print(txt)"
   ]
  },
  {
   "cell_type": "markdown",
   "metadata": {},
   "source": [
    "---\n",
    "### II. Process text into INDRA statements using REACH parser\n",
    "\n",
    "* If we have never parsed this text before (or we've made changes to it) we should process it with REACH\n",
    "* This will yield a set of INDRA statements\n",
    "* We will then pickle the statements so we don't have to parse them every time we run this script.\n",
    "    * Change the cell below to from Code -> Raw NBConvert in order to not execute it every time"
   ]
  },
  {
   "cell_type": "code",
   "execution_count": null,
   "metadata": {
    "collapsed": true
   },
   "outputs": [],
   "source": [
    "txt = 'ras_pathway.txt'"
   ]
  },
  {
   "cell_type": "code",
   "execution_count": null,
   "metadata": {
    "collapsed": true
   },
   "outputs": [],
   "source": [
    "from indra import reach\n",
    "rp = reach.process_text(txt, offline=False)\n",
    "st = rp.statements"
   ]
  },
  {
   "cell_type": "code",
   "execution_count": null,
   "metadata": {
    "collapsed": true
   },
   "outputs": [],
   "source": [
    "from indra.preassembler.grounding_mapper import GroundingMapper, gm\n",
    "\n",
    "GM = GroundingMapper(gm)\n",
    "mapped_stmts = GM.map_agents(st, do_rename=True)\n",
    "\n",
    "import pickle\n",
    "pickle.dump(mapped_stmts, open(\"st.pkl\", \"wb\"))"
   ]
  },
  {
   "cell_type": "markdown",
   "metadata": {},
   "source": [
    "---\n",
    "### III. Assemble an INDRA model"
   ]
  },
  {
   "cell_type": "code",
   "execution_count": null,
   "metadata": {
    "collapsed": true
   },
   "outputs": [],
   "source": [
    "import pickle\n",
    "st = pickle.load(open(\"st.pkl\", \"rb\"))"
   ]
  },
  {
   "cell_type": "code",
   "execution_count": null,
   "metadata": {
    "collapsed": false,
    "scrolled": true
   },
   "outputs": [],
   "source": [
    "from indra.statements import *\n",
    "from indra.assemblers import CyJSAssembler"
   ]
  },
  {
   "cell_type": "code",
   "execution_count": null,
   "metadata": {
    "collapsed": false
   },
   "outputs": [],
   "source": [
    "import pandas as pd"
   ]
  },
  {
   "cell_type": "code",
   "execution_count": null,
   "metadata": {
    "collapsed": false
   },
   "outputs": [],
   "source": [
    "ccle = pd.read_table(\"CCLE_sample_info_file_2012-10-18.txt\")"
   ]
  },
  {
   "cell_type": "code",
   "execution_count": null,
   "metadata": {
    "collapsed": false
   },
   "outputs": [],
   "source": [
    "cell_lines = ccle['CCLE name'].tolist()"
   ]
  },
  {
   "cell_type": "code",
   "execution_count": null,
   "metadata": {
    "collapsed": false,
    "scrolled": false
   },
   "outputs": [],
   "source": [
    "for line in cell_lines:\n",
    "    cja = CyJSAssembler()\n",
    "    cja.add_statements(st)\n",
    "    cja.make_model(grouping=True, \n",
    "                   drop_virtual_edges=False,\n",
    "                   add_edge_weights=True)\n",
    "\n",
    "    cja.set_context(cell_type = line, \n",
    "                    bin_expression = True, \n",
    "                    n_bins = 9)\n",
    "    \n",
    "    if (len(cja._exp_colorscale) == 0):\n",
    "        print('ignore cell line: ' + line)\n",
    "        continue\n",
    " \n",
    "    cja.save_json('static/cyjs/model_'+ line + '.json')\n",
    "    #cja.save_model('../../indra/models/ras_pathway/cyjs/model.js')"
   ]
  },
  {
   "cell_type": "code",
   "execution_count": null,
   "metadata": {
    "collapsed": false
   },
   "outputs": [],
   "source": [
    "files = os.listdir('static/cyjs/')"
   ]
  },
  {
   "cell_type": "code",
   "execution_count": null,
   "metadata": {
    "collapsed": true
   },
   "outputs": [],
   "source": [
    "ccle_dict = {x[6:len(x)-5]:x for x in files if 'model' in x}"
   ]
  },
  {
   "cell_type": "code",
   "execution_count": null,
   "metadata": {
    "collapsed": false
   },
   "outputs": [],
   "source": [
    "ccle_dict"
   ]
  },
  {
   "cell_type": "code",
   "execution_count": null,
   "metadata": {
    "collapsed": false
   },
   "outputs": [],
   "source": [
    "pwd"
   ]
  },
  {
   "cell_type": "code",
   "execution_count": null,
   "metadata": {
    "collapsed": true
   },
   "outputs": [],
   "source": [
    "import json"
   ]
  },
  {
   "cell_type": "code",
   "execution_count": null,
   "metadata": {
    "collapsed": false
   },
   "outputs": [],
   "source": [
    "ccle_dict_json = json.dumps(ccle_dict, indent=1, sort_keys=True)"
   ]
  },
  {
   "cell_type": "code",
   "execution_count": null,
   "metadata": {
    "collapsed": false
   },
   "outputs": [],
   "source": [
    "ccle_dict_json"
   ]
  },
  {
   "cell_type": "code",
   "execution_count": null,
   "metadata": {
    "collapsed": true
   },
   "outputs": [],
   "source": [
    " with open('static/cell_dict.json', 'wt') as fh:\n",
    "        fh.write(ccle_dict_json)"
   ]
  },
  {
   "cell_type": "code",
   "execution_count": null,
   "metadata": {
    "collapsed": true
   },
   "outputs": [],
   "source": []
  }
 ],
 "metadata": {
  "anaconda-cloud": {},
  "kernelspec": {
   "display_name": "Python [conda env:py35]",
   "language": "python",
   "name": "conda-env-py35-py"
  },
  "language_info": {
   "codemirror_mode": {
    "name": "ipython",
    "version": 3
   },
   "file_extension": ".py",
   "mimetype": "text/x-python",
   "name": "python",
   "nbconvert_exporter": "python",
   "pygments_lexer": "ipython3",
   "version": "3.5.2"
  }
 },
 "nbformat": 4,
 "nbformat_minor": 1
}
